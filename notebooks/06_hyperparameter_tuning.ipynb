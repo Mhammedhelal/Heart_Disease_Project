{
 "cells": [
  {
   "cell_type": "code",
   "execution_count": 4,
   "id": "47da4574-ec43-4954-8d08-72743e88e845",
   "metadata": {},
   "outputs": [],
   "source": [
    "from sklearn.model_selection import train_test_split\n",
    "import pandas as pd\n",
    "\n",
    "df = pd.read_csv(\"../data/heart_disease_selected.csv\")\n",
    "\n",
    "X = df.drop(\"target\", axis=1)\n",
    "y = df[\"target\"]\n",
    "\n",
    "X_train, X_test, y_train, y_test = train_test_split(\n",
    "    X, y, test_size=0.2, random_state=42, stratify=y\n",
    ")\n"
   ]
  },
  {
   "cell_type": "markdown",
   "id": "7990d1ce-92dc-45aa-a358-b2630263461c",
   "metadata": {},
   "source": [
    "## Random Forest Tuning (RandomizedSearchCV)"
   ]
  },
  {
   "cell_type": "code",
   "execution_count": 5,
   "id": "60e6e01a-b4cc-4fe1-ab95-09002390aa8c",
   "metadata": {},
   "outputs": [
    {
     "name": "stdout",
     "output_type": "stream",
     "text": [
      "📈 Random Forest - Best Hyperparameters:\n",
      "{'n_estimators': 100, 'min_samples_split': 10, 'min_samples_leaf': 2, 'max_depth': 10, 'bootstrap': False}\n",
      "\n",
      "🧾 Performance After Tuning:\n",
      "              precision    recall  f1-score   support\n",
      "\n",
      "           0       0.81      0.91      0.85        32\n",
      "           1       0.88      0.75      0.81        28\n",
      "\n",
      "    accuracy                           0.83        60\n",
      "   macro avg       0.84      0.83      0.83        60\n",
      "weighted avg       0.84      0.83      0.83        60\n",
      "\n"
     ]
    }
   ],
   "source": [
    "from sklearn.model_selection import RandomizedSearchCV\n",
    "from sklearn.ensemble import RandomForestClassifier\n",
    "from sklearn.metrics import classification_report\n",
    "\n",
    "param_dist_rf = {\n",
    "    \"n_estimators\": [50, 100, 150, 200],\n",
    "    \"max_depth\": [None, 5, 10, 20],\n",
    "    \"min_samples_split\": [2, 5, 10],\n",
    "    \"min_samples_leaf\": [1, 2, 4],\n",
    "    \"bootstrap\": [True, False]\n",
    "}\n",
    "\n",
    "rf = RandomForestClassifier(random_state=42)\n",
    "random_search_rf = RandomizedSearchCV(estimator=rf, param_distributions=param_dist_rf,\n",
    "                                       n_iter=20, cv=5, scoring=\"f1\", random_state=42, n_jobs=-1)\n",
    "\n",
    "random_search_rf.fit(X_train, y_train)\n",
    "\n",
    "best_rf = random_search_rf.best_estimator_\n",
    "y_pred_rf = best_rf.predict(X_test)\n",
    "\n",
    "print(\"📈 Random Forest - Best Hyperparameters:\")\n",
    "print(random_search_rf.best_params_)\n",
    "print(\"\\n🧾 Performance After Tuning:\")\n",
    "print(classification_report(y_test, y_pred_rf))\n"
   ]
  },
  {
   "cell_type": "markdown",
   "id": "57fc2981-a548-4b18-b471-7bc398b3f64b",
   "metadata": {},
   "source": [
    "##  SVM Tuning (GridSearchCV)"
   ]
  },
  {
   "cell_type": "code",
   "execution_count": 6,
   "id": "e57e5872-7d34-4ce9-b7ec-38ca1b38afca",
   "metadata": {},
   "outputs": [
    {
     "name": "stdout",
     "output_type": "stream",
     "text": [
      "📈 SVM - Best Hyperparameters:\n",
      "{'C': 10, 'gamma': 'scale', 'kernel': 'linear'}\n",
      "\n",
      "🧾 Performance After Tuning:\n",
      "              precision    recall  f1-score   support\n",
      "\n",
      "           0       0.85      0.91      0.88        32\n",
      "           1       0.88      0.82      0.85        28\n",
      "\n",
      "    accuracy                           0.87        60\n",
      "   macro avg       0.87      0.86      0.87        60\n",
      "weighted avg       0.87      0.87      0.87        60\n",
      "\n"
     ]
    }
   ],
   "source": [
    "from sklearn.svm import SVC\n",
    "from sklearn.model_selection import GridSearchCV\n",
    "\n",
    "# المعلمات المحتملة\n",
    "param_grid_svm = {\n",
    "    'C': [0.1, 1, 10],\n",
    "    'kernel': ['linear', 'rbf'],\n",
    "    'gamma': ['scale', 'auto']\n",
    "}\n",
    "\n",
    "# إعداد GridSearch\n",
    "svm = SVC(probability=True)\n",
    "grid_search_svm = GridSearchCV(estimator=svm, param_grid=param_grid_svm,\n",
    "                                cv=5, scoring=\"f1\", n_jobs=-1)\n",
    "\n",
    "# تدريب\n",
    "grid_search_svm.fit(X_train, y_train)\n",
    "\n",
    "# أفضل نموذج\n",
    "best_svm = grid_search_svm.best_estimator_\n",
    "y_pred_svm = best_svm.predict(X_test)\n",
    "\n",
    "print(\"📈 SVM - Best Hyperparameters:\")\n",
    "print(grid_search_svm.best_params_)\n",
    "print(\"\\n🧾 Performance After Tuning:\")\n",
    "print(classification_report(y_test, y_pred_svm))\n"
   ]
  },
  {
   "cell_type": "markdown",
   "id": "3a919c01-06a6-4e7e-8752-6101c638d190",
   "metadata": {},
   "source": [
    "## Compare with baseline"
   ]
  },
  {
   "cell_type": "code",
   "execution_count": 15,
   "id": "41e2b20b-dd5b-4217-8119-fcdd74dbe1ec",
   "metadata": {},
   "outputs": [
    {
     "name": "stdout",
     "output_type": "stream",
     "text": [
      "📊 Random Forest F1-Score\n",
      "Before Tuning: 0.81\n",
      "After  Tuning: 0.81\n"
     ]
    }
   ],
   "source": [
    "from sklearn.ensemble import RandomForestClassifier\n",
    "from sklearn.metrics import f1_score\n",
    "\n",
    "baseline_rf = RandomForestClassifier(random_state=42)\n",
    "baseline_rf.fit(X_train, y_train)\n",
    "\n",
    "baseline_f1 = f1_score(y_test, baseline_rf.predict(X_test))\n",
    "tuned_f1 = f1_score(y_test, best_rf.predict(X_test))\n",
    "\n",
    "print(f\"📊 Random Forest F1-Score\")\n",
    "print(f\"Before Tuning: {baseline_f1:.2f}\")\n",
    "print(f\"After  Tuning: {tuned_f1:.2f}\")\n"
   ]
  },
  {
   "cell_type": "markdown",
   "id": "99183972-0c21-41a1-8281-6cad47af391a",
   "metadata": {},
   "source": [
    "## Export Models"
   ]
  },
  {
   "cell_type": "code",
   "execution_count": 17,
   "id": "f3875bde-93f4-4020-93e2-3bbf6261d22c",
   "metadata": {},
   "outputs": [
    {
     "data": {
      "text/plain": [
       "['../models/best_rf.pkl']"
      ]
     },
     "execution_count": 17,
     "metadata": {},
     "output_type": "execute_result"
    }
   ],
   "source": [
    "import joblib\n",
    "\n",
    "joblib.dump(best_rf, \"../models/random_forest_tuned.pkl\")\n",
    "joblib.dump(best_svm, \"../models/svm_tuned.pkl\")\n",
    "joblib.dump(best_rf, \"../models/best_rf.pkl\")"
   ]
  }
 ],
 "metadata": {
  "kernelspec": {
   "display_name": "Python 3 (ipykernel)",
   "language": "python",
   "name": "python3"
  },
  "language_info": {
   "codemirror_mode": {
    "name": "ipython",
    "version": 3
   },
   "file_extension": ".py",
   "mimetype": "text/x-python",
   "name": "python",
   "nbconvert_exporter": "python",
   "pygments_lexer": "ipython3",
   "version": "3.12.2"
  }
 },
 "nbformat": 4,
 "nbformat_minor": 5
}
